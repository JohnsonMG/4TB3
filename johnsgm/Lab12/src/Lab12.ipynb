{
 "cells": [
  {
   "cell_type": "markdown",
   "metadata": {},
   "source": [
    "## McMaster University Comp Sci 4TB3/6TB3, Winter Term 2016/17 — Lab 12\n",
    "#### For the Labs on April 4 - April 6 <br>Due Thursday, April 6, 11 pm<br>Emil Sekerinski, Shucai Yao, Spencer Park<br>out of 24 points; extra points count towards any other lab\n",
    "\n",
    "To be submitted in the folder Lab12 on GitLab; you should have received an invitation to join the project cs4tb3-winter17/yourmacid.\n",
    "* You need to download the P0 jupyter notebook posted together with the lab, not use a previous version. You need to modify several notebooks, you should not create any other files.\n",
    "* This assignment requires a jupyter installation. You can install it on your computer, use UTS labs, or use https://notebooks.azure.com/. _See the posts on Avenue about incompatibilities._\n",
    "* In this lab, you are allowed to work in pairs, provided that you split the work equally and arrive at a common understanding of the solution. However, in that case you must state in your submission the person you worked with, such that similarities in the solution will not be construed as Academic Dishonesty. Working in groups of three or larger is not allowed and will be considered Academic Dishonesty. If you look for someone to work with, we will try to find a match, please contact the TAs.\n",
    "* You are allowed and encouraged to talk to everyone in the course to get a common understanding of the problem, but you can share partial solutions only with your collaborator, if you work in a pair. The final submission must be your own, that is, you cannot submit identical submissions with two names on them.\n",
    "* In the lab sessions, the solution to last week's lab questions are discussed and you can get help with this week's lab questions. Attendance at the labs is not checked."
   ]
  },
  {
   "cell_type": "markdown",
   "metadata": {},
   "source": [
    "### Lab Question 1 (Earley's Parser) [24 points]\n",
    "Write a function `parse(g: \"grammar\", x: \"input\")` that returns true if input string `x` is according to grammar `g`. The grammar is a sequence (or tuple) of rules and each rule is a string. Terminals and nonterminals consist of a single character. Uppercase letters are, by convention, nonterminals, everything else is a terminal, except that `→` separates the left and right sides. The grammar has to be in plain BNF, without parenthesis or bars (`|`). For each nonterminal, there can be several rules. The order of the rules is irrelevant, except that the first nonterminal of the first rule is the start symbol. The input `x` is a string without leading or trailing space or separators in between. "
   ]
  },
  {
   "cell_type": "code",
   "execution_count": 131,
   "metadata": {
    "collapsed": false,
    "scrolled": false
   },
   "outputs": [],
   "source": [
    "def parse(g: \"grammar\", x: \"input\"):  \n",
    "    # init\n",
    "    length = len(x)\n",
    "    \n",
    "    S = [Ordered_Set() for i in range(length + 1)]\n",
    "    \n",
    "    grammar = []\n",
    "    for r in g:\n",
    "        grammar.append(Rule(r[0], r[2:]))\n",
    "    \n",
    "    S[0].add(State(grammar[0],0,0))\n",
    "    \n",
    "    x = \"^\" + x + \"$\"\n",
    "    \n",
    "    #parse\n",
    "    for i in range(length+1):\n",
    "        for state in S[i]:\n",
    "            \n",
    "            ######Completer\n",
    "            if state.e >= len(state.r.rhs):\n",
    "                for old in S[state.j]:\n",
    "                    if old.e < len(old.r.rhs) and state.r.lhs == old.r.rhs[old.e]:\n",
    "                        S[i].add(State(old.r,old.e+1,old.j))\n",
    "            \n",
    "            else:\n",
    "                expected = state.r.rhs[state.e]\n",
    "                \n",
    "                #######Predicter\n",
    "                if 65 <= ord(expected) <= 90: \n",
    "                    for rule in grammar:\n",
    "                        if rule.lhs == expected:\n",
    "                            S[i].add(State(rule, 0, i))\n",
    "                \n",
    "                ######Scanner\n",
    "                elif (expected == x[i+1]): \n",
    "                    S[i+1].add(State(state.r,state.e+1,state.j))\n",
    "    \n",
    "    if State(grammar[0], 1, 0) in S[length]: return True\n",
    "    return False\n",
    "\n",
    "# Custome Classes for Rule, State, and Ordered_Set\n",
    "\n",
    "class Rule:\n",
    "    def __init__(self, lhs, rhs):\n",
    "        self.lhs = lhs\n",
    "        self.rhs = rhs\n",
    "    \n",
    "    def __repr__(self):\n",
    "        return str(self.lhs) + \"→\" + str(self.rhs)\n",
    "    \n",
    "    def __eq__(self, other):\n",
    "        if isinstance(other, Rule):\n",
    "            return self.lhs == other.lhs and self.rhs == other.rhs\n",
    "        else: return False\n",
    "        \n",
    "    def __ne__(self, other):\n",
    "        return not self.__eq__(other)\n",
    "\n",
    "class State:\n",
    "    def __init__(self, rule, expected, index):\n",
    "        self.r = rule\n",
    "        self.e = expected\n",
    "        self.j = index\n",
    "    \n",
    "    def __repr__(self):\n",
    "        return '('+str(self.r)+','+str(self.e)+','+str(self.j)+')'\n",
    "    \n",
    "    def __eq__(self, other):\n",
    "        if isinstance(other, State):\n",
    "            return self.r == other.r and self.e == other.e and self.j == other.j\n",
    "        else: return False\n",
    "    \n",
    "    def __ne__(self, other):\n",
    "        return not self.__eq__(other)\n",
    "    \n",
    "class Ordered_Set(list):\n",
    "    def add(self, item):\n",
    "        if item not in self:\n",
    "            self.append(item)"
   ]
  },
  {
   "cell_type": "markdown",
   "metadata": {},
   "source": [
    "For example, this call should return `True`:"
   ]
  },
  {
   "cell_type": "code",
   "execution_count": 132,
   "metadata": {
    "collapsed": true
   },
   "outputs": [],
   "source": [
    "grammar = (\"S→E\", \"E→T\", \"E→E+T\", \"T→F\", \"T→T*F\", \"F→a\")"
   ]
  },
  {
   "cell_type": "code",
   "execution_count": 133,
   "metadata": {
    "collapsed": false
   },
   "outputs": [
    {
     "data": {
      "text/plain": [
       "True"
      ]
     },
     "execution_count": 133,
     "metadata": {},
     "output_type": "execute_result"
    }
   ],
   "source": [
    "parse(grammar, \"a*a+a\")"
   ]
  },
  {
   "cell_type": "markdown",
   "metadata": {},
   "source": [
    "You are free and encouraged to consult other resources on Earley's algorithm, in particular the original publication. However, you need to cite all the resources you used and you cannot copy an implementation you found elsewhere. This is unlikely going to help anyway: with the specifics of this question, an implementation can be written in about 20 lines, other implementations you can find are way more involved. Hints:\n",
    "\n",
    "* Stick as close as possible to the formulation in the course notes.\n",
    "* You do not need to check the well-formedness of the grammar.\n",
    "* The algorithm requires that `x[n + 1]` is `$`, or any other character that does not appear in the input, and the input starts at `x[1]`. Simply prepend `^` (or any other character) and append `$` to the input.\n",
    "* Represent an Earley item `A → σ · ω, j` by the tuple `(A, σ, ω, j)`.\n",
    "* The algorithm requires a \"fixed point computation\" until the set `s[i]` does not change. One way is to introduce a set of items that still need to be visited and to continue the loop until that set is empty.\n",
    "* During development only, output the list `s` of sets and check if that corresponds to the one in the course notes."
   ]
  },
  {
   "cell_type": "markdown",
   "metadata": {},
   "source": [
    "### Bonus Question (Earley's Parser) [12 points]\n",
    "Modify the parser to output the set of all parse trees, in some suitable form, instead of true or false."
   ]
  }
 ],
 "metadata": {
  "kernelspec": {
   "display_name": "Python 3",
   "language": "python",
   "name": "python3"
  },
  "language_info": {
   "codemirror_mode": {
    "name": "ipython",
    "version": 3
   },
   "file_extension": ".py",
   "mimetype": "text/x-python",
   "name": "python",
   "nbconvert_exporter": "python",
   "pygments_lexer": "ipython3",
   "version": "3.5.1"
  }
 },
 "nbformat": 4,
 "nbformat_minor": 2
}
