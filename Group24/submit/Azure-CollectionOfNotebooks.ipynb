{
 "cells": [
  {
   "cell_type": "code",
   "execution_count": 1,
   "metadata": {
    "collapsed": false
   },
   "outputs": [
    {
     "data": {
      "application/javascript": [
       "function importNotebook(notebook) {\n",
       "    var nb = IPython.notebook;\n",
       "    var kernel = IPython.notebook.kernel;\n",
       "    \n",
       "    var notebookURL = 'https://notebooks.azure.com' + nb.base_url + 'api/contents/' + notebook + '.ipynb';\n",
       "\n",
       "    var getReq = new XMLHttpRequest();\n",
       "    getReq.open(\"GET\",  notebookURL, false);\n",
       "    getReq.send();\n",
       "    \n",
       "    if (getReq.status !== 200) {\n",
       "        console.log(\"Error downloading notebook \" + notebook + \". ErrorCode: \" + getReq.status + \". Error: \" + getReq.statusText);\n",
       "        return;\n",
       "    }\n",
       "    \n",
       "    var notebookContents;\n",
       "    try {\n",
       "        notebookContents = JSON.parse(getReq.response);\n",
       "    } catch (e) {\n",
       "        console.log(\"Cannot find notebook \" + notebook);\n",
       "        return;\n",
       "    }\n",
       "    var b64Notebook = window.btoa(unescape(encodeURIComponent(JSON.stringify(notebookContents.content))));\n",
       "    kernel.execute(`\n",
       "import base64\n",
       "NOTEBOOK_CONTENTS=\"\"\"${b64Notebook}\"\"\"\n",
       "NOTEBOOK_CONTENTS=base64.urlsafe_b64decode(NOTEBOOK_CONTENTS)\n",
       "f = open(\"${notebook}.ipynb\", \"wb\")\n",
       "f.write(NOTEBOOK_CONTENTS)\n",
       "f.close()`);\n",
       "    console.log('Downloaded notebook ' + notebook);\n",
       "}\n",
       "\n",
       "['Report', 'SC', 'CGARMv8', 'ST'].forEach(function (nb) { importNotebook(nb); });"
      ],
      "text/plain": [
       "<IPython.core.display.Javascript object>"
      ]
     },
     "metadata": {},
     "output_type": "display_data"
    }
   ],
   "source": [
    "%%javascript\n",
    "function importNotebook(notebook) {\n",
    "    var nb = IPython.notebook;\n",
    "    var kernel = IPython.notebook.kernel;\n",
    "    \n",
    "    var notebookURL = 'https://notebooks.azure.com' + nb.base_url + 'api/contents/' + notebook + '.ipynb';\n",
    "\n",
    "    var getReq = new XMLHttpRequest();\n",
    "    getReq.open(\"GET\",  notebookURL, false);\n",
    "    getReq.send();\n",
    "    \n",
    "    if (getReq.status !== 200) {\n",
    "        console.log(\"Error downloading notebook \" + notebook + \". ErrorCode: \" + getReq.status + \". Error: \" + getReq.statusText);\n",
    "        return;\n",
    "    }\n",
    "    \n",
    "    var notebookContents;\n",
    "    try {\n",
    "        notebookContents = JSON.parse(getReq.response);\n",
    "    } catch (e) {\n",
    "        console.log(\"Cannot find notebook \" + notebook);\n",
    "        return;\n",
    "    }\n",
    "    var b64Notebook = window.btoa(unescape(encodeURIComponent(JSON.stringify(notebookContents.content))));\n",
    "    kernel.execute(`\n",
    "import base64\n",
    "NOTEBOOK_CONTENTS=\"\"\"${b64Notebook}\"\"\"\n",
    "NOTEBOOK_CONTENTS=base64.urlsafe_b64decode(NOTEBOOK_CONTENTS)\n",
    "f = open(\"${notebook}.ipynb\", \"wb\")\n",
    "f.write(NOTEBOOK_CONTENTS)\n",
    "f.close()`);\n",
    "    console.log('Downloaded notebook ' + notebook);\n",
    "}\n",
    "\n",
    "['Report', 'SC', 'CGARMv8', 'ST'].forEach(function (nb) { importNotebook(nb); });"
   ]
  },
  {
   "cell_type": "code",
   "execution_count": 2,
   "metadata": {
    "collapsed": false
   },
   "outputs": [
    {
     "name": "stdout",
     "output_type": "stream",
     "text": [
      "Requirement already satisfied (use --upgrade to upgrade): nbimporter in /home/nbcommon/anaconda3_410/lib/python3.5/site-packages\n",
      "\u001b[33mYou are using pip version 8.1.2, however version 9.0.1 is available.\n",
      "You should consider upgrading via the 'pip install --upgrade pip' command.\u001b[0m\n",
      "Requirement already satisfied (use --upgrade to upgrade): graphviz in /home/nbcommon/anaconda3_410/lib/python3.5/site-packages\n",
      "\u001b[33mYou are using pip version 8.1.2, however version 9.0.1 is available.\n",
      "You should consider upgrading via the 'pip install --upgrade pip' command.\u001b[0m\n"
     ]
    }
   ],
   "source": [
    "!pip install nbimporter\n",
    "!pip install graphviz\n",
    "\n",
    "import nbimporter"
   ]
  },
  {
   "cell_type": "code",
   "execution_count": null,
   "metadata": {
    "collapsed": true
   },
   "outputs": [],
   "source": []
  }
 ],
 "metadata": {
  "kernelspec": {
   "display_name": "Python 3",
   "language": "python",
   "name": "python3"
  },
  "language_info": {
   "codemirror_mode": {
    "name": "ipython",
    "version": 3
   },
   "file_extension": ".py",
   "mimetype": "text/x-python",
   "name": "python",
   "nbconvert_exporter": "python",
   "pygments_lexer": "ipython3",
   "version": "3.5.1"
  }
 },
 "nbformat": 4,
 "nbformat_minor": 2
}
